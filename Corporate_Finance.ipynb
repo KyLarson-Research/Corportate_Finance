{
 "cells": [
  {
   "cell_type": "code",
   "execution_count": null,
   "metadata": {},
   "outputs": [],
   "source": [
    "# Decision_Rules.ipynb\n",
    "# Author: Kyle C Larson"
   ]
  },
  {
   "cell_type": "code",
   "execution_count": 64,
   "metadata": {},
   "outputs": [],
   "source": [
    "def homog_internal_return(present_value_benefit, present_value_cost):\n",
    "#This function outputs the homogeneous solution, solutution wherby\n",
    "#the Net Present Value (NPV) is zero\n",
    "#The solution is the internal rate of return IRR\n",
    "    zero_threshold = 10**(-6)\n",
    "    h = .1 #step width\n",
    "    IRR = .200000\n",
    "    pvc = present_value_cost\n",
    "    pvb = present_value_benefit\n",
    "    attempt = lambda x:sum([x/(1+(IRR-x))**(pvb.index(x)+1) for x in pvb],-pvc)\n",
    "    NPV = attempt(0)\n",
    "    s =4\n",
    "    z =0\n",
    "    zprev=0\n",
    "    while(abs(NPV) > zero_threshold):\n",
    "        if(NPV > 0):\n",
    "            new_NPV = attempt(-h)\n",
    "            IRR = IRR -h\n",
    "            if(new_NPV > NPV):\n",
    "                new_NPV = attempt(2*h)\n",
    "                IRR = IRR + 2*h\n",
    "            z =1\n",
    "        else:\n",
    "            new_NPV = attempt(h)\n",
    "            IRR = IRR +h\n",
    "            if(new_NPV < NPV):\n",
    "                new_NPV = attempt(-h)\n",
    "                IRR = IRR -2*h\n",
    "            z =2\n",
    "        s = s + (zprev!=z)\n",
    "        h = 10**(-s)\n",
    "        zprev =z\n",
    "        NPV = attempt(0)\n",
    "        #print(IRR)\n",
    "        #print(NPV)\n",
    "    return IRR\n",
    "    "
   ]
  },
  {
   "cell_type": "code",
   "execution_count": 65,
   "metadata": {},
   "outputs": [
    {
     "data": {
      "text/plain": [
       "11.295109859741354"
      ]
     },
     "execution_count": 65,
     "metadata": {},
     "output_type": "execute_result"
    }
   ],
   "source": [
    "homog_internal_return([26,20,18,13], 51)"
   ]
  },
  {
   "cell_type": "code",
   "execution_count": 61,
   "metadata": {},
   "outputs": [
    {
     "name": "stdout",
     "output_type": "stream",
     "text": [
      "3.881310201236943e-06\n"
     ]
    }
   ],
   "source": [
    "\n",
    "pvb = [26,20,18,13]\n",
    "pvc = 51\n",
    "IRR = .2143867\n",
    "term = [x/(1+IRR)**(pvb.index(x)+1) for x in pvb]\n",
    "print(sum(term,-pvc))"
   ]
  },
  {
   "cell_type": "code",
   "execution_count": 21,
   "metadata": {},
   "outputs": [
    {
     "data": {
      "text/plain": [
       "2"
      ]
     },
     "execution_count": 21,
     "metadata": {},
     "output_type": "execute_result"
    }
   ],
   "source": [
    "pvb.index(18)"
   ]
  },
  {
   "cell_type": "code",
   "execution_count": 7,
   "metadata": {},
   "outputs": [
    {
     "name": "stdout",
     "output_type": "stream",
     "text": [
      "[9, 15, 21]\n"
     ]
    }
   ],
   "source": [
    "#[word for sentence in text for word in sentence]\n",
    "x=[i for three in range(12,25,6) for i in range(three-3, three+3, 6) ]\n",
    "print(x)"
   ]
  },
  {
   "cell_type": "code",
   "execution_count": 18,
   "metadata": {},
   "outputs": [
    {
     "name": "stdout",
     "output_type": "stream",
     "text": [
      "[2, 4, 6, 8, 10, 12, 14, 16, 18, 4, 8, 12, 16, 20, 24, 28, 32, 36, 6, 12, 18, 24, 30, 36, 42, 48, 54, 8, 16, 24, 32, 40, 48, 56, 64, 72, 10, 20, 30, 40, 50, 60, 70, 80, 90, 12, 24, 36, 48, 60, 72, 84, 96, 108, 14, 28, 42, 56, 70, 84, 98, 112, 126, 16, 32, 48, 64, 80, 96, 112, 128, 144, 18, 36, 54, 72, 90, 108, 126, 144, 162]\n"
     ]
    }
   ],
   "source": [
    "x=[ pair*orange for orange in range(2,20,2) for pair in range(1,10) ]\n",
    "print(x)"
   ]
  },
  {
   "cell_type": "code",
   "execution_count": 29,
   "metadata": {},
   "outputs": [
    {
     "data": {
      "text/plain": [
       "2"
      ]
     },
     "execution_count": 29,
     "metadata": {},
     "output_type": "execute_result"
    }
   ],
   "source": [
    "abs(-2)"
   ]
  },
  {
   "cell_type": "code",
   "execution_count": null,
   "metadata": {},
   "outputs": [],
   "source": []
  }
 ],
 "metadata": {
  "kernelspec": {
   "display_name": "Python 3",
   "language": "python",
   "name": "python3"
  },
  "language_info": {
   "codemirror_mode": {
    "name": "ipython",
    "version": 3
   },
   "file_extension": ".py",
   "mimetype": "text/x-python",
   "name": "python",
   "nbconvert_exporter": "python",
   "pygments_lexer": "ipython3",
   "version": "3.7.6"
  }
 },
 "nbformat": 4,
 "nbformat_minor": 4
}
